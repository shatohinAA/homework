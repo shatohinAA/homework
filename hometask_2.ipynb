{
 "cells": [
  {
   "cell_type": "code",
   "execution_count": null,
   "metadata": {},
   "outputs": [],
   "source": [
    "import numpy as np"
   ]
  },
  {
   "cell_type": "code",
   "execution_count": null,
   "metadata": {},
   "outputs": [],
   "source": [
    "x = np.random.random((10,3))   # Task 1\n",
    "print(x)\n",
    "print([np.where(abs(0.5-elem)==np.min(abs(0.5-elem)))[0] for elem in x])"
   ]
  },
  {
   "cell_type": "code",
   "execution_count": null,
   "metadata": {},
   "outputs": [],
   "source": [
    "x = np.random.random((6,6))   # Task 2\n",
    "print(x)\n",
    "print([np.sum(x[i])/(np.min([x[j][i] for j in range(6)])) for i in range(6)])"
   ]
  },
  {
   "cell_type": "code",
   "execution_count": null,
   "metadata": {},
   "outputs": [],
   "source": [
    "x = np.array([6, 2, 0, 3, 0, 0, 5, 7, 0])   # Task 3\n",
    "print(np.max([x[np.where(x==0)[0][i]+1] for i in range(np.sum(x==0)-np.sum(x[len(x)-1]==0))]))"
   ]
  },
  {
   "cell_type": "code",
   "execution_count": null,
   "metadata": {},
   "outputs": [],
   "source": [
    "x = np.ones(10)               # Task 4\n",
    "i = np.array([0, 1, 2, 3, 5, 5, 5, 8])\n",
    "print([x[j]+np.sum(i==j) for j in range(10)])"
   ]
  },
  {
   "cell_type": "code",
   "execution_count": null,
   "metadata": {},
   "outputs": [],
   "source": [
    "url = 'https://raw.githubusercontent.com/sharmaroshan/Clustering-of-Mall-Customers/master/Mall_Customers.csv'\n",
    "data = np.loadtxt(url, delimiter=',', dtype=object, skiprows=1)\n",
    "data[:5]"
   ]
  },
  {
   "cell_type": "code",
   "execution_count": null,
   "metadata": {},
   "outputs": [],
   "source": [
    "data[:, 1] = data[:, 1] == 'Male'\n",
    "data = data.astype(float)\n",
    "data[:5]"
   ]
  },
  {
   "cell_type": "code",
   "execution_count": null,
   "metadata": {},
   "outputs": [],
   "source": [
    "import matplotlib.pyplot as plt\n",
    "\n",
    "plt.scatter(data[:, 2], data[:, 3])\n",
    "plt.xlabel('Age')\n",
    "plt.ylabel('Annual Income')\n",
    "plt.show()"
   ]
  },
  {
   "cell_type": "code",
   "execution_count": null,
   "metadata": {},
   "outputs": [],
   "source": [
    "plt.scatter(data[:, 2], data[:, 4])\n",
    "plt.xlabel('Age')\n",
    "plt.ylabel('Spending Score')\n",
    "plt.show()"
   ]
  },
  {
   "cell_type": "code",
   "execution_count": null,
   "metadata": {},
   "outputs": [],
   "source": [
    "plt.scatter(data[:, 3], data[:, 4])\n",
    "plt.xlabel('Annual Income')\n",
    "plt.ylabel('Spending Score')\n",
    "plt.show()"
   ]
  },
  {
   "cell_type": "code",
   "execution_count": null,
   "metadata": {},
   "outputs": [],
   "source": [
    "def standardization(data):   # Нормализация данных\n",
    "    mean = data.mean(axis=0)\n",
    "    std = data.std(axis=0)\n",
    "    return (data - mean)/std"
   ]
  },
  {
   "cell_type": "code",
   "execution_count": null,
   "metadata": {},
   "outputs": [],
   "source": [
    "import numpy.random \n",
    "from scipy.spatial import distance"
   ]
  },
  {
   "cell_type": "code",
   "execution_count": null,
   "metadata": {},
   "outputs": [],
   "source": [
    "def kmeans(obs, k_or_guess, iter=20, thresh=1e-05):  # Метод k-means\n",
    "    if type(k_or_guess) == int:\n",
    "        code_book = obs[np.random.choice(range(len(obs)), k_or_guess, False)]\n",
    "    else:\n",
    "        code_book = k_or_guess\n",
    "    prev_distortion = -1\n",
    "    cur_distortion = distance.cdist(obs, code_book, 'sqeuclidean').min(axis = 1).sum()\n",
    "    \n",
    "    while abs(cur_distortion - prev_distortion) > thresh:\n",
    "        new_code_book = np.empty((len(code_book),len(code_book[0])))\n",
    "        distortion = distance.cdist(obs, code_book, 'sqeuclidean')\n",
    "        temp = np.hstack((obs, distortion.argmin(axis=1).reshape(len(distortion),1)))\n",
    "        for i in range(len(code_book)):\n",
    "            new_code_book[i] = np.vstack(row for row in temp if row[-1] == i).mean(axis=0)[:-1]\n",
    "        code_book = new_code_book\n",
    "        prev_distortion = cur_distortion\n",
    "        cur_distortion = distance.cdist(obs, code_book, 'sqeuclidean').min(axis = 1).sum()\n",
    "        \n",
    "    return code_book, cur_distortion "
   ]
  },
  {
   "cell_type": "code",
   "execution_count": null,
   "metadata": {},
   "outputs": [],
   "source": [
    "standardized = standardization(data[:,2:])\n",
    "dist_k = np.empty(15)                          # Elbow-метод для категорий возраст-годовой доход\n",
    "for i in range(1,16):\n",
    "    codebook, distor = kmeans(standardized[:,[0,1]], i)\n",
    "    dist_k[i-1] = distor\n",
    "plt.plot(range(1,16), dist_k, 'o-r', label = \"elbow method\")\n",
    "plt.legend()\n",
    "plt.grid(True)"
   ]
  },
  {
   "cell_type": "code",
   "execution_count": null,
   "metadata": {},
   "outputs": [],
   "source": [
    "codebook, distor = kmeans(standardized[:,[0,1]], 3)    # Найдя оптимальное k, разделяем на k кластеров(тут k=3)\n",
    "\n",
    "distortion = distance.cdist(standardized[:,[0,1]], codebook, 'sqeuclidean')\n",
    "matrix = np.hstack((standardized[:,[0,1]], distortion.argmin(axis=1).reshape(len(distortion),1)))\n",
    "part1 = np.vstack(row for row in matrix if row[-1] == 0)\n",
    "part2 = np.vstack(row for row in matrix if row[-1] == 1)\n",
    "part3 = np.vstack(row for row in matrix if row[-1] == 2)\n",
    "\n",
    "plt.scatter(part1[:,0], part1[:,1], c='y', label='First group')\n",
    "plt.scatter(part2[:,0], part2[:,1], c='c', label='Second group')\n",
    "plt.scatter(part3[:,0], part3[:,1], c='b', label='Third group')\n",
    "plt.axis('equal')\n",
    "plt.xlabel(\"Age\")\n",
    "plt.ylabel('Annual Income')\n",
    "plt.legend()\n",
    "plt.show()\n",
    "# Видно, что годовой доход людей двух кластеров(молодые люди и люди старшего возраста) меньше, чем у людей\n",
    "# третьего кластера(в основном люди среднего возраста) - довольно показательно."
   ]
  },
  {
   "cell_type": "code",
   "execution_count": null,
   "metadata": {},
   "outputs": [],
   "source": [
    "dist_k = np.empty(15)                        # Elbow-метод для категорий возраст-затраты\n",
    "for i in range(1,16):\n",
    "    codebook, distor = kmeans(standardized[:,[0,2]], i)\n",
    "    dist_k[i-1] = distor\n",
    "plt.plot(range(1,16), dist_k, 'o-r', label = \"elbow method\")\n",
    "plt.legend()\n",
    "plt.grid(True)"
   ]
  },
  {
   "cell_type": "code",
   "execution_count": null,
   "metadata": {},
   "outputs": [],
   "source": [
    "codebook, distor = kmeans(standardized[:,[0,2]], 4)     # Найдя оптимальное k, разделяем на k кластеров(тут k=4)\n",
    "\n",
    "distortion = distance.cdist(standardized[:,[0,2]], codebook, 'sqeuclidean')\n",
    "matrix = np.hstack((standardized[:,[0,2]], distortion.argmin(axis=1).reshape(len(distortion),1)))\n",
    "part1 = np.vstack(row for row in matrix if row[-1] == 0)\n",
    "part2 = np.vstack(row for row in matrix if row[-1] == 1)\n",
    "part3 = np.vstack(row for row in matrix if row[-1] == 2)\n",
    "part4 = np.vstack(row for row in matrix if row[-1] == 3)\n",
    "\n",
    "\n",
    "plt.scatter(part1[:,0], part1[:,1], c='y', label='First group')\n",
    "plt.scatter(part2[:,0], part2[:,1], c='c', label='Second group')\n",
    "plt.scatter(part3[:,0], part3[:,1], c='b', label='Third group')\n",
    "plt.scatter(part4[:,0], part4[:,1], c='r', label='Fourth group')\n",
    "\n",
    "plt.axis('equal')\n",
    "plt.xlabel(\"Age\")\n",
    "plt.ylabel('Spending Score')\n",
    "plt.legend()\n",
    "plt.show()\n",
    "# Люди 4го кластера(довольно молодые) выделяются как тратящие больше всего, остальные 3 кластера распределены не\n",
    "# так густо, хотя в 1 кластере заметны люди среднего возраста, тратятящие тоже средне."
   ]
  },
  {
   "cell_type": "code",
   "execution_count": null,
   "metadata": {},
   "outputs": [],
   "source": [
    "dist_k = np.empty(15)                       # Elbow-метод для категорий годовой доход-затраты\n",
    "for i in range(1,16):\n",
    "    codebook, distor = kmeans(standardized[:,[1,2]], i)\n",
    "    dist_k[i-1] = distor\n",
    "plt.plot(range(1,16), dist_k, 'o-r', label = \"elbow method\")\n",
    "plt.legend()\n",
    "plt.grid(True)"
   ]
  },
  {
   "cell_type": "code",
   "execution_count": null,
   "metadata": {},
   "outputs": [],
   "source": [
    "codebook, distor = kmeans(standardized[:,[1,2]], 5)   # Найдя оптимальное k, разделяем на k кластеров(тут k=5)\n",
    "\n",
    "distortion = distance.cdist(standardized[:,[1,2]], codebook, 'sqeuclidean')\n",
    "matrix = np.hstack((standardized[:,[1,2]], distortion.argmin(axis=1).reshape(len(distortion),1)))\n",
    "part1 = np.vstack(row for row in matrix if row[-1] == 0)\n",
    "part2 = np.vstack(row for row in matrix if row[-1] == 1)\n",
    "part3 = np.vstack(row for row in matrix if row[-1] == 2)\n",
    "part4 = np.vstack(row for row in matrix if row[-1] == 3)\n",
    "part5 = np.vstack(row for row in matrix if row[-1] == 4)\n",
    "\n",
    "\n",
    "plt.scatter(part1[:,0], part1[:,1], c='y', label='First group')\n",
    "plt.scatter(part2[:,0], part2[:,1], c='c', label='Second group')\n",
    "plt.scatter(part3[:,0], part3[:,1], c='b', label='Third group')\n",
    "plt.scatter(part4[:,0], part4[:,1], c='r', label='Fourth group')\n",
    "plt.scatter(part5[:,0], part5[:,1], c='g', label='Fifth group')\n",
    "\n",
    "\n",
    "plt.axis('equal')\n",
    "plt.xlabel(\"Annual Income\")\n",
    "plt.ylabel('Spending Score')\n",
    "plt.legend()\n",
    "plt.show()\n",
    "# 5 кластеров распределены довольно равномерно. Выделяется первый кластер со средним годовым доходом и средними\n",
    "# затратами - показательно."
   ]
  }
 ],
 "metadata": {
  "kernelspec": {
   "display_name": "Python 3",
   "language": "python",
   "name": "python3"
  },
  "language_info": {
   "codemirror_mode": {
    "name": "ipython",
    "version": 3
   },
   "file_extension": ".py",
   "mimetype": "text/x-python",
   "name": "python",
   "nbconvert_exporter": "python",
   "pygments_lexer": "ipython3",
   "version": "3.7.3"
  }
 },
 "nbformat": 4,
 "nbformat_minor": 2
}
