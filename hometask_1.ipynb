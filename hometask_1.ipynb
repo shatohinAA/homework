{
 "cells": [
  {
   "cell_type": "code",
   "execution_count": 2,
   "metadata": {},
   "outputs": [],
   "source": [
    "#Task https://edabit.com/challenge/KjCS7occ9hfu5snpb (1 point)\n",
    "class Test:\n",
    "    @staticmethod\n",
    "    def assert_equals(a, b, args):\n",
    "        assert a == b\n",
    "        assert ''+str(s)+' plus 1 equals '+str(b)+'.' == args\n",
    "        print('Passed')"
   ]
  },
  {
   "cell_type": "code",
   "execution_count": 3,
   "metadata": {},
   "outputs": [],
   "source": [
    "def addition(x):\n",
    "    global s\n",
    "    s = x\n",
    "    return x+1"
   ]
  },
  {
   "cell_type": "code",
   "execution_count": 4,
   "metadata": {},
   "outputs": [
    {
     "name": "stdout",
     "output_type": "stream",
     "text": [
      "Passed\n",
      "Passed\n",
      "Passed\n",
      "Passed\n",
      "Passed\n"
     ]
    }
   ],
   "source": [
    "Test.assert_equals(addition(2), 3, \"2 plus 1 equals 3.\")\n",
    "Test.assert_equals(addition(-9), -8, \"-9 plus 1 equals -8.\")\n",
    "Test.assert_equals(addition(0), 1, \"0 plus 1 equals 1.\")\n",
    "Test.assert_equals(addition(999), 1000, \"999 plus 1 equals 1000.\")\n",
    "Test.assert_equals(addition(73), 74, \"73 plus 1 equals 74.\")"
   ]
  },
  {
   "cell_type": "code",
   "execution_count": 10,
   "metadata": {},
   "outputs": [],
   "source": [
    "#Task https://edabit.com/challenge/4gzDuDkompAqujpRi (2 points)\n",
    "class Test:\n",
    "    @staticmethod\n",
    "    def assertEquals(a, b):\n",
    "        assert a == b\n",
    "        print('Passed')"
   ]
  },
  {
   "cell_type": "code",
   "execution_count": 11,
   "metadata": {},
   "outputs": [],
   "source": [
    "def addUp(x):\n",
    "    sum = 0\n",
    "    for i in range(1,x+1):\n",
    "        sum+=i\n",
    "    return sum"
   ]
  },
  {
   "cell_type": "code",
   "execution_count": 12,
   "metadata": {},
   "outputs": [
    {
     "name": "stdout",
     "output_type": "stream",
     "text": [
      "Passed\n",
      "Passed\n",
      "Passed\n",
      "Passed\n",
      "Passed\n",
      "Passed\n",
      "Passed\n",
      "Passed\n",
      "Passed\n",
      "Passed\n",
      "Passed\n",
      "Passed\n",
      "Passed\n",
      "Passed\n",
      "Passed\n"
     ]
    }
   ],
   "source": [
    "Test.assertEquals(addUp(4), 10)\n",
    "Test.assertEquals(addUp(13), 91)\n",
    "Test.assertEquals(addUp(600), 180300)\n",
    "Test.assertEquals(addUp(392), 77028)\n",
    "Test.assertEquals(addUp(53), 1431)\n",
    "Test.assertEquals(addUp(897), 402753)\n",
    "Test.assertEquals(addUp(23), 276)\n",
    "Test.assertEquals(addUp(1000), 500500)\n",
    "Test.assertEquals(addUp(738), 272691)\n",
    "Test.assertEquals(addUp(100), 5050)\n",
    "Test.assertEquals(addUp(925), 428275)\n",
    "Test.assertEquals(addUp(1), 1)\n",
    "Test.assertEquals(addUp(999), 499500)\n",
    "Test.assertEquals(addUp(175), 15400)\n",
    "Test.assertEquals(addUp(111), 6216)"
   ]
  },
  {
   "cell_type": "code",
   "execution_count": 1,
   "metadata": {},
   "outputs": [],
   "source": [
    "#Task https://edabit.com/challenge/PNbsQzmDR3CJ9JHkB (3 points)\n",
    "class Test:\n",
    "    @staticmethod\n",
    "    def assert_equals(a, b):\n",
    "        assert a == b\n",
    "        print('Passed')"
   ]
  },
  {
   "cell_type": "code",
   "execution_count": 5,
   "metadata": {},
   "outputs": [],
   "source": [
    "def fact(x):\n",
    "    if x == 0:\n",
    "        return 1\n",
    "    else:\n",
    "        return x * fact(x - 1)"
   ]
  },
  {
   "cell_type": "code",
   "execution_count": 6,
   "metadata": {},
   "outputs": [
    {
     "name": "stdout",
     "output_type": "stream",
     "text": [
      "Passed\n",
      "Passed\n",
      "Passed\n",
      "Passed\n",
      "Passed\n",
      "Passed\n",
      "Passed\n"
     ]
    }
   ],
   "source": [
    "Test.assert_equals(fact(0), 1)\n",
    "Test.assert_equals(fact(1), 1)\n",
    "Test.assert_equals(fact(2), 2)\n",
    "Test.assert_equals(fact(3), 6)\n",
    "Test.assert_equals(fact(7), 5040)\n",
    "Test.assert_equals(fact(9), 362880)\n",
    "Test.assert_equals(fact(15), 1307674368000)"
   ]
  },
  {
   "cell_type": "code",
   "execution_count": 58,
   "metadata": {},
   "outputs": [],
   "source": [
    "#Task https://edabit.com/challenge/st8mDxreMcuWxuz8c (4 points)\n",
    "class Test:\n",
    "    @staticmethod\n",
    "    def assert_equals(a, b):\n",
    "        assert a == b\n",
    "        print('Passed')"
   ]
  },
  {
   "cell_type": "code",
   "execution_count": 59,
   "metadata": {},
   "outputs": [],
   "source": [
    "def pentagonal(x):\n",
    "    sum = 1\n",
    "    for i in range(2,x+1):\n",
    "        sum+=5*(i-1)\n",
    "    return sum"
   ]
  },
  {
   "cell_type": "code",
   "execution_count": 60,
   "metadata": {},
   "outputs": [
    {
     "name": "stdout",
     "output_type": "stream",
     "text": [
      "Passed\n",
      "Passed\n",
      "Passed\n",
      "Passed\n",
      "Passed\n",
      "Passed\n",
      "Passed\n",
      "Passed\n",
      "Passed\n",
      "Passed\n",
      "Passed\n"
     ]
    }
   ],
   "source": [
    "Test.assert_equals(pentagonal(1), 1)\n",
    "Test.assert_equals(pentagonal(3), 16)\n",
    "Test.assert_equals(pentagonal(8), 141)\n",
    "Test.assert_equals(pentagonal(10), 226)\n",
    "Test.assert_equals(pentagonal(15), 526)\n",
    "Test.assert_equals(pentagonal(33), 2641)\n",
    "Test.assert_equals(pentagonal(43), 4516)\n",
    "Test.assert_equals(pentagonal(13), 391)\n",
    "Test.assert_equals(pentagonal(50), 6126)\n",
    "Test.assert_equals(pentagonal(62), 9456)\n",
    "Test.assert_equals(pentagonal(21), 1051)"
   ]
  },
  {
   "cell_type": "code",
   "execution_count": 49,
   "metadata": {},
   "outputs": [],
   "source": [
    "#Task https://edabit.com/challenge/ta8GBizBNbRGo5iC6 (3 points)\n",
    "class Test:\n",
    "    @staticmethod\n",
    "    def assert_equals(a, b, args):\n",
    "        assert a == b\n",
    "        assert str(calculator.geta())+' '+calculator.getc()+' '+str(calculator.getb())+' = '+str(a) == args\n",
    "        print('Passed')"
   ]
  },
  {
   "cell_type": "code",
   "execution_count": 50,
   "metadata": {},
   "outputs": [],
   "source": [
    "class Calculator:\n",
    "    def __init__(self, a=1, b=1, c='-'):         \n",
    "        self.a = a\n",
    "        self.b = b\n",
    "        self.c = c\n",
    "    def geta(self):\n",
    "        return self.a\n",
    "    def getb(self):\n",
    "        return self.b\n",
    "    def getc(self):\n",
    "        return self.c\n",
    "    def add(self, a, b):\n",
    "        self.a = a\n",
    "        self.b = b\n",
    "        self.c = '+'\n",
    "        return a+b\n",
    "    def subtract(self, a, b):\n",
    "        self.a = a\n",
    "        self.b = b\n",
    "        self.c = '-'\n",
    "        return a-b\n",
    "    def multiply(self, a, b):\n",
    "        self.a = a\n",
    "        self.b = b\n",
    "        self.c = '*'\n",
    "        return a*b\n",
    "    def divide(self, a, b):\n",
    "        self.a = a\n",
    "        self.b = b\n",
    "        self.c = '/'\n",
    "        return a//b"
   ]
  },
  {
   "cell_type": "code",
   "execution_count": 51,
   "metadata": {},
   "outputs": [
    {
     "name": "stdout",
     "output_type": "stream",
     "text": [
      "Passed\n",
      "Passed\n",
      "Passed\n",
      "Passed\n",
      "Passed\n",
      "Passed\n",
      "Passed\n",
      "Passed\n"
     ]
    }
   ],
   "source": [
    "calculator = Calculator()\n",
    "Test.assert_equals(calculator.add(5,5), 10, \"5 + 5 = 10\")\n",
    "Test.assert_equals(calculator.add(20,5), 25, \"20 + 5 = 25\")\n",
    "Test.assert_equals(calculator.subtract(30,5), 25, \"30 - 5 = 25\")\n",
    "Test.assert_equals(calculator.subtract(100,5), 95, \"100 - 5 = 95\")\n",
    "Test.assert_equals(calculator.multiply(5,5), 25, \"5 * 5 = 25\")\n",
    "Test.assert_equals(calculator.multiply(100,5), 500, \"100 * 5 = 500\")\n",
    "Test.assert_equals(calculator.divide(10,5), 2, \"10 / 5 = 2\")\n",
    "Test.assert_equals(calculator.divide(100,5), 20, \"100 / 5 = 20\")"
   ]
  },
  {
   "cell_type": "code",
   "execution_count": 61,
   "metadata": {},
   "outputs": [],
   "source": [
    "#Task https://edabit.com/challenge/HYjQKDXFfeppcWmLX (2 points)\n",
    "class Test:\n",
    "    @staticmethod\n",
    "    def assert_equals(a, b):\n",
    "        assert a == b\n",
    "        print('Passed')"
   ]
  },
  {
   "cell_type": "code",
   "execution_count": 62,
   "metadata": {},
   "outputs": [],
   "source": [
    "def is_curzon(x):\n",
    "    if (2**x+1)%(2*x+1)==0:\n",
    "        return True\n",
    "    else:\n",
    "        return False"
   ]
  },
  {
   "cell_type": "code",
   "execution_count": 63,
   "metadata": {},
   "outputs": [
    {
     "name": "stdout",
     "output_type": "stream",
     "text": [
      "Passed\n",
      "Passed\n",
      "Passed\n",
      "Passed\n",
      "Passed\n",
      "Passed\n",
      "Passed\n",
      "Passed\n",
      "Passed\n"
     ]
    }
   ],
   "source": [
    "Test.assert_equals(is_curzon(5), True)\n",
    "Test.assert_equals(is_curzon(10), False)\n",
    "Test.assert_equals(is_curzon(14), True)\n",
    "Test.assert_equals(is_curzon(86), True)\n",
    "Test.assert_equals(is_curzon(90), True)\n",
    "Test.assert_equals(is_curzon(115), False)\n",
    "Test.assert_equals(is_curzon(120), False)\n",
    "Test.assert_equals(is_curzon(194), True)\n",
    "Test.assert_equals(is_curzon(293), True)"
   ]
  },
  {
   "cell_type": "code",
   "execution_count": null,
   "metadata": {},
   "outputs": [],
   "source": []
  }
 ],
 "metadata": {
  "kernelspec": {
   "display_name": "Python 3",
   "language": "python",
   "name": "python3"
  },
  "language_info": {
   "codemirror_mode": {
    "name": "ipython",
    "version": 3
   },
   "file_extension": ".py",
   "mimetype": "text/x-python",
   "name": "python",
   "nbconvert_exporter": "python",
   "pygments_lexer": "ipython3",
   "version": "3.7.3"
  }
 },
 "nbformat": 4,
 "nbformat_minor": 2
}
